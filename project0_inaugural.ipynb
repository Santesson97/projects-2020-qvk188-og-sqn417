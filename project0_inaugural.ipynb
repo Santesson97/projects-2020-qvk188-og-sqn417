{
 "cells": [
  {
   "cell_type": "markdown",
   "metadata": {},
   "source": [
    "Import modules:"
   ]
  },
  {
   "cell_type": "code",
   "execution_count": 1,
   "metadata": {},
   "outputs": [],
   "source": [
    "import numpy as np\n",
    "from scipy import optimize\n",
    "import matplotlib.pyplot as plt"
   ]
  },
  {
   "cell_type": "markdown",
   "metadata": {},
   "source": [
    "Parameters:"
   ]
  },
  {
   "cell_type": "code",
   "execution_count": 2,
   "metadata": {},
   "outputs": [],
   "source": [
    "m = 1\n",
    "v = 10\n",
    "epsilon = 0.3\n",
    "tau0 = 0.4\n",
    "tau1 = 0.1\n",
    "kappa = 0.4"
   ]
  },
  {
   "cell_type": "markdown",
   "metadata": {},
   "source": [
    "**Question 1**"
   ]
  },
  {
   "cell_type": "markdown",
   "metadata": {},
   "source": [
    "Functions:"
   ]
  },
  {
   "cell_type": "code",
   "execution_count": 3,
   "metadata": {},
   "outputs": [],
   "source": [
    "# a. utility_function\n",
    "\n",
    "def utility_function(c,l,v=v,epsilon=epsilon):\n",
    "    return np.log(c) - v*(l**(1+1/epsilon)/(1+1/epsilon))\n",
    "\n",
    "# b. c_function, where c* = x becuase of monoticity \n",
    "\n",
    "def c_function(l,w,m=m,tau0=tau0,tau1=tau1,kappa=kappa):\n",
    "    return m + w*l - (tau0*w*l + tau1*np.max(w*l-kappa,0))\n",
    "\n",
    "# c. utility_constrained, where c = c_function\n",
    "\n",
    "def utility_constrained(l,w,v=v,epsilon=epsilon,tau0=tau0,tau1=tau1,kappa=kappa):\n",
    "    c = c_function(l,w,m=m,tau0=tau0,tau1=tau1,kappa=kappa)\n",
    "    return utility_function(c,l,v,epsilon)"
   ]
  },
  {
   "cell_type": "markdown",
   "metadata": {},
   "source": [
    "Solution function:"
   ]
  },
  {
   "cell_type": "code",
   "execution_count": 4,
   "metadata": {},
   "outputs": [
    {
     "name": "stdout",
     "output_type": "stream",
     "text": [
      "     fun: -0.17217215210801498\n",
      "     jac: array([-0.00121016])\n",
      " message: 'Optimization terminated successfully.'\n",
      "    nfev: 16\n",
      "     nit: 5\n",
      "    njev: 5\n",
      "  status: 0\n",
      " success: True\n",
      "       x: array([0.3821357])\n",
      "     fun: -0.31199493326030237\n",
      "     jac: array([-0.00055652])\n",
      " message: 'Optimization terminated successfully.'\n",
      "    nfev: 21\n",
      "     nit: 6\n",
      "    njev: 6\n",
      "  status: 0\n",
      " success: True\n",
      "       x: array([0.71658795])\n"
     ]
    }
   ],
   "source": [
    "def solution_function(w,v=v,epsilon=epsilon,tau0=tau0,tau1=tau1,kappa=kappa):  \n",
    "    bounds = [(0,1)]\n",
    "    initial_guess = 0.5\n",
    "    l_optimal = optimize.minimize(\n",
    "        lambda l: -utility_constrained(l,w,v=v,epsilon=epsilon,tau0=tau0,tau1=tau1,kappa=kappa),\n",
    "        initial_guess,method='SLSQP',bounds=bounds)\n",
    "    return l_optimal\n",
    "    print(l_optimal.message) # check that the solver has terminated correctly (place here; l_optimal defined localy)\n",
    "\n",
    "# check optimizer \n",
    "print(solution_function(1)) # test optimizer: w = 1\n",
    "print(solution_function(1,epsilon=0.1)) # test change epsilon from default"
   ]
  },
  {
   "cell_type": "markdown",
   "metadata": {},
   "source": [
    "**Question 2**"
   ]
  },
  {
   "cell_type": "markdown",
   "metadata": {},
   "source": [
    "Plot $\\ell^*$ and $c^*$ as functions of $w\\in(0.5,1.5)$:"
   ]
  },
  {
   "cell_type": "code",
   "execution_count": 5,
   "metadata": {},
   "outputs": [
    {
     "name": "stdout",
     "output_type": "stream",
     "text": [
      "[0.5        0.61111111 0.72222222 0.83333333 0.94444444 1.05555556\n",
      " 1.16666667 1.27777778 1.38888889 1.5       ]\n",
      "[0.31955951 0.33733084 0.35246176 0.36559671 0.37677329 0.38720119\n",
      " 0.39654554 0.404984   0.41266128 0.41968386]\n",
      "[1.11988988 1.14307331 1.16727786 1.19233196 1.21792072 1.24435619\n",
      " 1.27131823 1.29873978 1.32657033 1.3547629 ]\n"
     ]
    },
    {
     "data": {
      "image/png": "[encoded data removed]",
      "text/plain": [
       "<Figure size 720x288 with 2 Axes>"
      ]
     },
     "metadata": {
      "needs_background": "light"
     },
     "output_type": "display_data"
    }
   ],
   "source": [
    "# setup\n",
    "M = 10\n",
    "w_vec = np.linspace(0.5,1.5,M) # Return evenly spaced numbers over a specified interval\n",
    "l_vec = np.empty(M) # Return a new array of given (same M) shape and type, without initializing entries\n",
    "c_vec = np.empty(M)\n",
    "\n",
    "print(w_vec) # check elements    \n",
    "\n",
    "# a. optimal l => loop through w and adding solutions for l to l_vec\n",
    "for i,w in enumerate(w_vec):\n",
    "    l_vec[i] = solution_function(w).x[0]\n",
    "    \n",
    "print(l_vec) # check elements\n",
    "\n",
    "# b. optimal c\n",
    "for i,w in enumerate(w_vec):\n",
    "    l = solution_function(w).x[0]\n",
    "    c_vec[i] = c_function(l,w)\n",
    "\n",
    "print(c_vec) # check elements\n",
    "\n",
    "# c. figure\n",
    "fig = plt.figure(figsize = (10,4))\n",
    "\n",
    "# I. left plot\n",
    "ax_left = fig.add_subplot(1,2,1)\n",
    "ax_left.plot(w_vec,l_vec,lw=2,color='forestgreen')\n",
    "\n",
    "ax_left.set_title('labor supply, $\\ell^*$')\n",
    "ax_left.set_xlabel('$w$')\n",
    "ax_left.set_ylabel('$\\ell^*$')\n",
    "ax_left.grid(True)\n",
    "\n",
    "# II. right plot\n",
    "ax_right = fig.add_subplot(1,2,2)\n",
    "ax_right.plot(w_vec,c_vec,lw=2,color='cornflowerblue')\n",
    "\n",
    "ax_right.set_title('consumption, $c^*$')\n",
    "ax_right.set_xlabel('$w$')\n",
    "ax_right.set_ylabel('$c^*$')\n",
    "ax_right.grid(True)"
   ]
  },
  {
   "cell_type": "markdown",
   "metadata": {},
   "source": [
    "**Question 3**"
   ]
  },
  {
   "cell_type": "markdown",
   "metadata": {},
   "source": [
    "Parameters:"
   ]
  },
  {
   "cell_type": "code",
   "execution_count": 6,
   "metadata": {},
   "outputs": [],
   "source": [
    "seed = 123\n",
    "N = 10\n",
    "lower = 0.5\n",
    "upper = 1.5"
   ]
  },
  {
   "cell_type": "markdown",
   "metadata": {},
   "source": [
    "Draw individual wages from uniform distribution $w_i\\sim\\mathcal{U}(0.5,1.5)$:"
   ]
  },
  {
   "cell_type": "code",
   "execution_count": 7,
   "metadata": {},
   "outputs": [
    {
     "name": "stdout",
     "output_type": "stream",
     "text": [
      "<class 'numpy.ndarray'>\n",
      "[1.19646919 0.78613933 0.72685145 1.05131477 1.21946897 0.92310646\n",
      " 1.4807642  1.18482974 0.9809319  0.89211752]\n"
     ]
    }
   ],
   "source": [
    "np.random.seed(seed)\n",
    "w_random_vec = np.random.uniform(low=lower,high=upper,size=N)\n",
    "\n",
    "# check w_random_vec\n",
    "print(type(w_random_vec)) # check type\n",
    "print(w_random_vec) # check elements"
   ]
  },
  {
   "cell_type": "markdown",
   "metadata": {},
   "source": [
    "Optimal labor for all consumers $\\ell_i^*,\\forall i$:"
   ]
  },
  {
   "cell_type": "code",
   "execution_count": 8,
   "metadata": {},
   "outputs": [],
   "source": [
    "def optimal_labor_inputs(w_random_vec=w_random_vec,epsilon=epsilon,tau0=tau0,tau1=tau1,kappa=kappa):\n",
    "    l_optimal_vec = np.empty(N) # Return a new array of given (same N) shape and type, without initializing entries\n",
    "\n",
    "    # optimal l for consumer i\n",
    "    for i,w in enumerate(w_random_vec):\n",
    "        l_optimal_vec[i] = solution_function(w,epsilon=epsilon,tau0=tau0,tau1=tau1,kappa=kappa).x[0]\n",
    "\n",
    "    # optimal c is irelevant\n",
    "    \n",
    "    return l_optimal_vec"
   ]
  },
  {
   "cell_type": "code",
   "execution_count": 9,
   "metadata": {},
   "outputs": [
    {
     "name": "stdout",
     "output_type": "stream",
     "text": [
      "[0.39889149 0.36023043 0.35304532 0.38682436 0.40065937 0.37462839\n",
      " 0.4185121  0.39798281 0.38033012 0.37142341]\n"
     ]
    }
   ],
   "source": [
    "print(optimal_labor_inputs())"
   ]
  },
  {
   "cell_type": "markdown",
   "metadata": {},
   "source": [
    "Total tax revenue $T$:"
   ]
  },
  {
   "cell_type": "code",
   "execution_count": 10,
   "metadata": {},
   "outputs": [],
   "source": [
    "def tax_revenue(w_random_vec=w_random_vec,epsilon=epsilon,tau0=tau0,tau1=tau1,kappa=kappa):\n",
    "\n",
    "    l_optimal_vec = optimal_labor_inputs(w_random_vec=w_random_vec,epsilon=epsilon,tau0=tau0,tau1=tau1,kappa=kappa)\n",
    "\n",
    "    sum = 0\n",
    "    for i in range(N):\n",
    "        w = w_random_vec[i]\n",
    "        l = l_optimal_vec[i]\n",
    "        sum += tau0*w*l+tau1*np.max(w*l-kappa,0)\n",
    "    return sum"
   ]
  },
  {
   "cell_type": "code",
   "execution_count": 11,
   "metadata": {},
   "outputs": [
    {
     "name": "stdout",
     "output_type": "stream",
     "text": [
      "1.6269213948615846\n"
     ]
    }
   ],
   "source": [
    "print(tax_revenue())"
   ]
  },
  {
   "cell_type": "markdown",
   "metadata": {},
   "source": [
    "**Question 4**"
   ]
  },
  {
   "cell_type": "markdown",
   "metadata": {},
   "source": [
    "Parameter:"
   ]
  },
  {
   "cell_type": "code",
   "execution_count": 12,
   "metadata": {},
   "outputs": [],
   "source": [
    "epsilon_new = 0.1"
   ]
  },
  {
   "cell_type": "markdown",
   "metadata": {},
   "source": [
    "Tax revenue:"
   ]
  },
  {
   "cell_type": "code",
   "execution_count": 13,
   "metadata": {},
   "outputs": [
    {
     "name": "stdout",
     "output_type": "stream",
     "text": [
      "3.358019689712616\n"
     ]
    }
   ],
   "source": [
    "print(tax_revenue(epsilon = epsilon_new))"
   ]
  },
  {
   "cell_type": "markdown",
   "metadata": {},
   "source": [
    "**Fortolkning**: epsilon falder => elasticitet på arbejdskraft falder (mere inelastisk) => mindre DWL ved beskatning => større skatteproenu"
   ]
  },
  {
   "cell_type": "markdown",
   "metadata": {},
   "source": [
    "**Question 5**"
   ]
  },
  {
   "cell_type": "markdown",
   "metadata": {},
   "source": [
    "Maximize total tax revenue $T$ with respect to $\\tau_0, \\tau_1$ and $\\kappa$:"
   ]
  },
  {
   "cell_type": "code",
   "execution_count": 29,
   "metadata": {},
   "outputs": [
    {
     "name": "stdout",
     "output_type": "stream",
     "text": [
      "0.774971696346691\n",
      "0.011600727261927605\n",
      "0.0\n",
      "Optimization terminated successfully.\n",
      "2.5885068264594158\n",
      "2.5866041573328635\n",
      "2.588090956035067\n"
     ]
    }
   ],
   "source": [
    "# a. objective function (to minimize)\n",
    "def objective_function(x,w_random_vec=w_random_vec,epsilon=epsilon):\n",
    "    # note: x is a vector\n",
    "    tau0 = x[0]\n",
    "    tau1 = x[1]\n",
    "    kappa = x[2]\n",
    "    return -tax_revenue(w_random_vec=w_random_vec,epsilon=epsilon,tau0=tau0,tau1=tau1,kappa=kappa)\n",
    "\n",
    "# b. bounds\n",
    "bounds = [(0,1),(0,1),(0,None)]\n",
    "\n",
    "# c. call solver\n",
    "initial_guess = [0.4,0.1,0.4]\n",
    "res = optimize.minimize(\n",
    "    objective_function,initial_guess,args=(w_random_vec,epsilon),\n",
    "    method='SLSQP',bounds=bounds)\n",
    "\n",
    "# d. unpack solution\n",
    "tau0 = res.x[0]\n",
    "tau1 = res.x[1]\n",
    "kappa = res.x[2]\n",
    "print(tau0)\n",
    "print(tau1)\n",
    "print(kappa)\n",
    "print(res.message)\n",
    "print(tax_revenue(tau0=tau0,tau1=tau1,kappa=kappa)) # max tax revenue\n",
    "print(tax_revenue(tau0=0.76,tau1=tau1,kappa=kappa)) # lower tax revenue\n",
    "print(tax_revenue(tau0=0.78,tau1=tau1,kappa=kappa)) # lower tax revenue"
   ]
  },
  {
   "cell_type": "markdown",
   "metadata": {},
   "source": [
    "**Optimal tax system**: One single tax rate $\\tau_0+\\tau_1$, where there is no cut off $\\kappa=0$ (the tax is levied as an equal proportion of income on every consumer). Optimal tax rate is positive, but less than 1, which is in line with the prediction of the Laffer curve. Additionally, a rate of 70%-80% is similar to those of empirical estimates."
   ]
  },
  {
   "cell_type": "markdown",
   "metadata": {},
   "source": [
    "**Husk**: \\\n",
    "Metode til at håndtere mange parametre \\\n",
    "Figurer: interaktive, 3d-plot, justering af akser/ticks, \\\n",
    "Kode: mere kompakt, kommentarer, specificer input/output \\\n",
    "Tekst: resultat præsenteres \\\n",
    "Loop: N = 10000 forbrugere"
   ]
  },
  {
   "cell_type": "code",
   "execution_count": null,
   "metadata": {},
   "outputs": [],
   "source": []
  }
 ],
 "metadata": {
  "kernelspec": {
   "display_name": "Python 3",
   "language": "python",
   "name": "python3"
  },
  "language_info": {
   "codemirror_mode": {
    "name": "ipython",
    "version": 3
   },
   "file_extension": ".py",
   "mimetype": "text/x-python",
   "name": "python",
   "nbconvert_exporter": "python",
   "pygments_lexer": "ipython3",
   "version": "3.7.4"
  }
 },
 "nbformat": 4,
 "nbformat_minor": 4
}

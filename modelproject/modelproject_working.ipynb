{
 "cells": [
  {
   "cell_type": "markdown",
   "metadata": {},
   "source": [
    "# Solow-Model with human capital and distorting taxation"
   ]
  },
  {
   "cell_type": "markdown",
   "metadata": {},
   "source": [
    "**Importing relevant packages and modules**"
   ]
  },
  {
   "cell_type": "code",
   "execution_count": 17,
   "metadata": {},
   "outputs": [],
   "source": [
    "import numpy as np\n",
    "from scipy import optimize\n",
    "import sympy as sm\n",
    "import matplotlib.pyplot as plt\n",
    "\n",
    "# autoreload modules when code is run\n",
    "%load_ext autoreload\n",
    "%autoreload 2\n",
    "#XD FOR SMART UPLOAD\n",
    "# local modules\n",
    "# import modelproject if code is used form another notebook or file"
   ]
  },
  {
   "cell_type": "markdown",
   "metadata": {},
   "source": [
    "# Model description"
   ]
  },
  {
   "cell_type": "markdown",
   "metadata": {},
   "source": [
    "The following solow-model incorperates human capital accumulation aswell as distorting taxation."
   ]
  },
  {
   "cell_type": "markdown",
   "metadata": {},
   "source": [
    "The model consists of the following equations:"
   ]
  },
  {
   "cell_type": "markdown",
   "metadata": {},
   "source": [
    "1 $$ (1-\\tau)^{\\eta}L_t, \\text{   } 0<\\eta<1,$$\n",
    "2 $$H_{t+1}={\\tau}w_tN_t+(1-{\\delta})H_t $$\n",
    "3 $$K_{t+1}=s_kY_t+(1-{\\delta})K_t $$\n",
    "4 $$K^\\alpha_{t}H^\\beta_{t}(A_{t}N_{t})^{1-\\alpha-\\beta} $$\n",
    "5 $$H_t=h_{t}N_t $$\n",
    "6 $$L_{t+1}=(1+n)L_t $$\n",
    "7 $$A_{t+1}=(1+g)A_t $$\n",
    "\n",
    "\n",
    "* $K_t$ is capital in period t\n",
    "* $L_t$ is labor i period t (with a constant growth rate of $n$)\n",
    "* $H_t$ is human capital in period t\n",
    "* $A_t$ is technology in period t (with a constant growth rate of $g$)\n",
    "* $N_t$ is the total workhours supplied in the economy in period t\n",
    "* $Y_t$ is GDP"
   ]
  },
  {
   "cell_type": "markdown",
   "metadata": {},
   "source": [
    "The model contains the following parameters:$$(\\eta,\\tau,s_k,\\delta,\\alpha,\\beta,n,g) $$"
   ]
  },
  {
   "cell_type": "markdown",
   "metadata": {},
   "source": [
    "Using the equations above, we can find the two transitioncurves given by:\n",
    "$$ \\tilde{k}_{t+1}=\\left(\\frac{1}{(1+n)(1+g}\\right)[s_{k}\\tilde{k}^{\\alpha}_{t}\\tilde{h}^{\\beta}_{t}(1-\\tau)^{\\eta(1+\\alpha)}+(1+\\delta)\\tilde{k}_{t}] $$\n",
    "and\n",
    "$$ \\tilde{h}_{t+1}=\\left(\\frac{1}{(1+n)(1+g}\\right)[\\tau(1-\\alpha)\\tilde{k}^{\\alpha}_{t}\\tilde{h}^{\\beta}_{t}(1-\\tau)^{\\eta(1+\\alpha)}+(1+\\delta)\\tilde{h}_{t}] $$\n",
    "where $\\tilde{k}_{t}$ is the capital per effective worker given by $\\tilde{k}_{t}=\\frac{Y}{AK}$\n",
    "and\n",
    "$\\tilde{h}_{t}$ is the human capital per effective worker given by $\\tilde{h}_{t}=\\frac{Y}{AK}$"
   ]
  },
  {
   "cell_type": "code",
   "execution_count": null,
   "metadata": {},
   "outputs": [],
   "source": []
  }
 ],
 "metadata": {
  "kernelspec": {
   "display_name": "Python 3",
   "language": "python",
   "name": "python3"
  },
  "language_info": {
   "codemirror_mode": {
    "name": "ipython",
    "version": 3
   },
   "file_extension": ".py",
   "mimetype": "text/x-python",
   "name": "python",
   "nbconvert_exporter": "python",
   "pygments_lexer": "ipython3",
   "version": "3.7.4"
  }
 },
 "nbformat": 4,
 "nbformat_minor": 4
}
